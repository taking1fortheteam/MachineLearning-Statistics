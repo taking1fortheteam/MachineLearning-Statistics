{
 "cells": [
  {
   "cell_type": "markdown",
   "metadata": {},
   "source": [
    "## Write a Python function called sqrt2 \n",
    "- that calculates and prints to the screen the square root of 2 to 100 decimal places. \n",
    "\n",
    "Your code should not depend on any module from the standard library 1 or otherwise. \n",
    "You should research the task first and include references and a description of your algorithm.\n",
    "\n"
   ]
  },
  {
   "cell_type": "markdown",
   "metadata": {},
   "source": [
    "Because the square root of 2 is an irrational number, as illustrated in the following reference [1], it ensures it is a peculiarity when it comes to using the value in calculations. \n",
    "\n",
    "\n",
    "[1] Proof: Square root of 2 is Irrational; Khan Academy; https://www.khanacademy.org/math/algebra/x2f8bb11595b61c86:irrational-numbers/x2f8bb11595b61c86:proofs-concerning-irrational-numbers/v/proof-that-square-root-of-2-is-irrational"
   ]
  },
  {
   "cell_type": "markdown",
   "metadata": {},
   "source": [
    "Calculating the square root of 2 on my calculator, either on my phone, scientific calculator or on this computer, produc=es similar results. The result is always a number of varying lengths that resembles the following:\n",
    "1.4142135623730950488016887242097 - to 31 decimal places from my computer.\n",
    "\n",
    "In order to use Python to output the squre root of 2 to 100 decimal places, we need to look deeper at what constitutes the makeup of a square root. "
   ]
  },
  {
   "cell_type": "markdown",
   "metadata": {},
   "source": [
    "What exactly is a  square of a number? It is a number multiplied by itself. The square of 2 is 4 i.e. 2 X 2. The square of 9 is 81 i.e. 9 X 9. And likewise the square root is just one of those numbers we have multiplied by itself in order to get the result we require. \n",
    "That being said, the question we are to answer is \"what number do we hveto multiply by itself to get 2? We know this is not an easy task, but what might be an easy task is to approximate the multiplication digit by digit. "
   ]
  },
  {
   "cell_type": "markdown",
   "metadata": {},
   "source": [
    "Lets look at multiplying 1 by 1 - too easy, the answer is 1. Now lets try 1.1 to see what we get?\n"
   ]
  },
  {
   "cell_type": "code",
   "execution_count": 5,
   "metadata": {},
   "outputs": [],
   "source": [
    "x = 1.1 * 1.1"
   ]
  },
  {
   "cell_type": "code",
   "execution_count": 7,
   "metadata": {},
   "outputs": [
    {
     "name": "stdout",
     "output_type": "stream",
     "text": [
      "1.21\n"
     ]
    },
    {
     "data": {
      "text/plain": [
       "1.2100000000000002"
      ]
     },
     "execution_count": 7,
     "metadata": {},
     "output_type": "execute_result"
    }
   ],
   "source": [
    "print(\"%.2f\" % x)\n",
    "x"
   ]
  },
  {
   "cell_type": "markdown",
   "metadata": {},
   "source": [
    "So the product of 1.1 is 1.21 - but our interest lies with 2, adn 1.21 is a  ways off. From our earlier calculation we could see that he square root of 2 was 1.414....... so we will start there. \n",
    "\n"
   ]
  },
  {
   "cell_type": "code",
   "execution_count": 8,
   "metadata": {},
   "outputs": [
    {
     "name": "stdout",
     "output_type": "stream",
     "text": [
      "1.999\n"
     ]
    },
    {
     "data": {
      "text/plain": [
       "1.9993959999999997"
      ]
     },
     "execution_count": 8,
     "metadata": {},
     "output_type": "execute_result"
    }
   ],
   "source": [
    "y = 1.414 * 1.414\n",
    "print(\"%.3f\" % y)\n",
    "y"
   ]
  },
  {
   "cell_type": "markdown",
   "metadata": {},
   "source": [
    "This is as expected but if we were to use an algorithm that tested each of the digit locations, to see if the resulting multiplication resulted in the answer exceeding 2 then we can tweak it to be below 2 for each calculation. As an example lets look at 1.415:"
   ]
  },
  {
   "cell_type": "code",
   "execution_count": 10,
   "metadata": {},
   "outputs": [
    {
     "name": "stdout",
     "output_type": "stream",
     "text": [
      "2.002\n"
     ]
    },
    {
     "data": {
      "text/plain": [
       "2.002225"
      ]
     },
     "execution_count": 10,
     "metadata": {},
     "output_type": "execute_result"
    }
   ],
   "source": [
    "z = 1.415 * 1.415\n",
    "print(\"%.3f\" % z)\n",
    "z"
   ]
  },
  {
   "cell_type": "markdown",
   "metadata": {},
   "source": [
    "As expected, the result is above 2 which is not good. So we continue knowing that the first digits are 1.414. But to ensure the algorithm is fast we would want to check to see where within the 10 digits does the next number lie? Is it 1.4147 or i it 1.4142? We won;t concern ourselves with the speed of the algorithm for now, but if we get time to alter it before final submission then we can make improvements. For now we will run through the digits 0 to 9 in ascending order to get the closest fit and use hat nmber in our calculaton before proceeding to the next. "
   ]
  },
  {
   "cell_type": "markdown",
   "metadata": {},
   "source": [
    "However, after a simple check on alternate ways of expressing the swuare root of something, I might have an easier way of figuring this out. Checking this [2] website shows that the square root of something can be expressed as another number. For instance the square root of 2 can also be expressed as 2 to the power of a half! This was a mathematical fact that escaped me as I have not had to cover this topic in many years, so this is a bonus for me, and also from researching [3], it appears there is a built in function cintained within the standard library that should lend us an answer : pow(x,y) - x to the power of y.\n",
    "[2] Rational Exponents; Monterey Institute; http://www.montereyinstitute.org/courses/DevelopmentalMath/COURSE_TEXT2_RESOURCE/U16_L1_T3_text_final.html\n",
    "[3] The Python Standard Library, Built in types; Python.Org, https://docs.python.org/3/library/stdtypes.html#truth-value-testing"
   ]
  },
  {
   "cell_type": "code",
   "execution_count": 1,
   "metadata": {},
   "outputs": [
    {
     "data": {
      "text/plain": [
       "1.4142135623730951"
      ]
     },
     "execution_count": 1,
     "metadata": {},
     "output_type": "execute_result"
    }
   ],
   "source": [
    "a = 2\n",
    "b = 0.5\n",
    "c = pow(a, b)\n",
    "c"
   ]
  },
  {
   "cell_type": "code",
   "execution_count": null,
   "metadata": {},
   "outputs": [],
   "source": []
  }
 ],
 "metadata": {
  "kernelspec": {
   "display_name": "Python 3",
   "language": "python",
   "name": "python3"
  },
  "language_info": {
   "codemirror_mode": {
    "name": "ipython",
    "version": 3
   },
   "file_extension": ".py",
   "mimetype": "text/x-python",
   "name": "python",
   "nbconvert_exporter": "python",
   "pygments_lexer": "ipython3",
   "version": "3.8.3"
  }
 },
 "nbformat": 4,
 "nbformat_minor": 4
}

{
 "cells": [
  {
   "cell_type": "markdown",
   "metadata": {},
   "source": [
    "## Write a Python function called sqrt2 \n",
    "- that calculates and prints to the screen the square root of 2 to 100 decimal places. \n",
    "\n",
    "Your code should not depend on any module from the standard library 1 or otherwise. \n",
    "You should research the task first and include references and a description of your algorithm.\n",
    "\n"
   ]
  },
  {
   "cell_type": "markdown",
   "metadata": {},
   "source": [
    "This is an example of referencing as described by the lecturer - \n",
    "# to be deleted before submission.\n",
    "\n",
    "This is a  markdown cell [1].\n",
    "\n",
    "[1] Mastering Markdown; Github; https://guides.github.com/features/mastering-markdown/"
   ]
  },
  {
   "cell_type": "code",
   "execution_count": null,
   "metadata": {},
   "outputs": [],
   "source": []
  }
 ],
 "metadata": {
  "kernelspec": {
   "display_name": "Python 3",
   "language": "python",
   "name": "python3"
  },
  "language_info": {
   "codemirror_mode": {
    "name": "ipython",
    "version": 3
   },
   "file_extension": ".py",
   "mimetype": "text/x-python",
   "name": "python",
   "nbconvert_exporter": "python",
   "pygments_lexer": "ipython3",
   "version": "3.8.3"
  }
 },
 "nbformat": 4,
 "nbformat_minor": 4
}
